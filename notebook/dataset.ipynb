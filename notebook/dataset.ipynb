{
 "cells": [
  {
   "cell_type": "markdown",
   "id": "d4e2c727-44e1-4375-86e5-f1974a4e36fa",
   "metadata": {},
   "source": [
    "### Import packages"
   ]
  },
  {
   "cell_type": "code",
   "execution_count": 1,
   "id": "39393dca-e440-49c9-892b-725f8f12679b",
   "metadata": {},
   "outputs": [],
   "source": [
    "import pandas as pd\n",
    "from datasets import Dataset"
   ]
  },
  {
   "cell_type": "markdown",
   "id": "5acb5315-2177-4c39-834c-66f27db6c8e8",
   "metadata": {},
   "source": [
    "### Import dataset from CSV file"
   ]
  },
  {
   "cell_type": "code",
   "execution_count": 2,
   "id": "b74ae80d-15ed-4c5e-87b7-e08bc9ecea2d",
   "metadata": {},
   "outputs": [],
   "source": [
    "data = pd.read_csv('../backend/data/paris-2024-faq.csv',delimiter=\";\")"
   ]
  },
  {
   "cell_type": "markdown",
   "id": "2b0f67d9-b036-4fc1-9b48-fa1749f9c2a4",
   "metadata": {},
   "source": [
    "### Extract french language from FAQ"
   ]
  },
  {
   "cell_type": "code",
   "execution_count": 3,
   "id": "ff88fa67-8883-4822-83ca-95dea2bd2823",
   "metadata": {},
   "outputs": [],
   "source": [
    "# extract french FAQ\n",
    "data = data[data['lang']=='fr']"
   ]
  },
  {
   "cell_type": "markdown",
   "id": "42bb17d2-ddd0-4dc7-839d-9a5e0d5afc70",
   "metadata": {},
   "source": [
    "## 1. Recherche sémantique ##"
   ]
  },
  {
   "cell_type": "markdown",
   "id": "c0de0f44-97bd-4936-abf0-1220b6a759c5",
   "metadata": {},
   "source": [
    "### Combine a new text field for semantic search"
   ]
  },
  {
   "cell_type": "code",
   "execution_count": 4,
   "id": "6da168f7-fb4b-4117-9b4b-f5f7d4ade026",
   "metadata": {},
   "outputs": [],
   "source": [
    "data['text'] = data['label'] + ' ' + data['body'] + ' ' + data['topics']"
   ]
  },
  {
   "cell_type": "markdown",
   "id": "ac4b8cb4-df6d-4a71-8457-4a9b09f1a71c",
   "metadata": {},
   "source": [
    "### Import sentence transformers from hugging face"
   ]
  },
  {
   "cell_type": "code",
   "execution_count": 5,
   "id": "c5e558ab-b4fd-4674-a13d-2d064b522248",
   "metadata": {},
   "outputs": [
    {
     "name": "stderr",
     "output_type": "stream",
     "text": [
      "/home/farid/.pyenv/versions/3.10.6/envs/dev-go/lib/python3.10/site-packages/transformers/tokenization_utils_base.py:1601: FutureWarning: `clean_up_tokenization_spaces` was not set. It will be set to `True` by default. This behavior will be depracted in transformers v4.45, and will be then set to `False` by default. For more details check this issue: https://github.com/huggingface/transformers/issues/31884\n",
      "  warnings.warn(\n"
     ]
    }
   ],
   "source": [
    "from transformers import AutoTokenizer, AutoModel\n",
    "\n",
    "model_ckpt = \"sentence-transformers/multi-qa-mpnet-base-dot-v1\"\n",
    "tokenizer = AutoTokenizer.from_pretrained(model_ckpt)\n",
    "model = AutoModel.from_pretrained(model_ckpt)"
   ]
  },
  {
   "cell_type": "markdown",
   "id": "2590bfc7-9e81-44fb-b68c-160b7dfd99af",
   "metadata": {},
   "source": [
    "### Save transfomer pickle"
   ]
  },
  {
   "cell_type": "code",
   "execution_count": 6,
   "id": "4f2c740e-03ad-489e-9120-fde8d8cbc3bd",
   "metadata": {},
   "outputs": [],
   "source": [
    "import pickle\n",
    "\n",
    "pickle.dump(tokenizer, open(\"../backend/data/sentence-transformers_tokenizer.pkl\", 'wb'))\n",
    "pickle.dump(model, open(\"../backend/data/sentence-transformers_model.pkl\", 'wb'))"
   ]
  },
  {
   "cell_type": "markdown",
   "id": "758e50ea-d769-4308-b038-b08c998042d8",
   "metadata": {},
   "source": [
    "### Embeddings functions"
   ]
  },
  {
   "cell_type": "code",
   "execution_count": 7,
   "id": "0b8984cb-d9db-41f8-aca4-ead0c77fb96d",
   "metadata": {},
   "outputs": [],
   "source": [
    "def cls_pooling(model_output):\n",
    "    return model_output.last_hidden_state[:, 0]\n",
    "\n",
    "def get_embeddings(text_list):\n",
    "    encoded_input = tokenizer(text_list, padding=True, truncation=True, return_tensors=\"pt\")\n",
    "    encoded_input = {k: v for k, v in encoded_input.items()}\n",
    "    model_output = model(**encoded_input)\n",
    "    return cls_pooling(model_output)"
   ]
  },
  {
   "cell_type": "markdown",
   "id": "f34ff775-c57d-40fc-ac9c-4f18db0be666",
   "metadata": {},
   "source": [
    "### Get embeddings on the text column"
   ]
  },
  {
   "cell_type": "code",
   "execution_count": 8,
   "id": "f90a9a81-3e01-45df-a3c9-ebf1c613a816",
   "metadata": {},
   "outputs": [
    {
     "data": {
      "application/vnd.jupyter.widget-view+json": {
       "model_id": "0acaa35434cb4704aa62c4d205c5f60a",
       "version_major": 2,
       "version_minor": 0
      },
      "text/plain": [
       "Map:   0%|          | 0/543 [00:00<?, ? examples/s]"
      ]
     },
     "metadata": {},
     "output_type": "display_data"
    }
   ],
   "source": [
    "text_dataset = Dataset.from_pandas(data)\n",
    "\n",
    "embeddings_dataset = text_dataset.map(\n",
    "    lambda x: {\"embeddings\": get_embeddings(x[\"text\"]).detach().numpy()[0]}\n",
    ")"
   ]
  },
  {
   "cell_type": "code",
   "execution_count": 41,
   "id": "29036881-085b-4571-bd5d-77b3d164d9bc",
   "metadata": {},
   "outputs": [],
   "source": [
    "filtered_results = data[data['topics'].str.contains(\"Recrutement\")]\n",
    "filtered_results = filtered_results.drop(columns={\"id\",\"lang\",\"text\"})\n",
    "final_results={}\n",
    "for k,r in filtered_results.items():\n",
    "    final_results[k]=r.to_list()"
   ]
  },
  {
   "cell_type": "code",
   "execution_count": 42,
   "id": "b19d1471-3300-45d6-8e1f-f8a6aeb38aa5",
   "metadata": {},
   "outputs": [
    {
     "data": {
      "text/plain": [
       "{'label': [\"Je cherche un poste d'agent de sécurité. Il n'y en a pas à pourvoir sur votre site. Où puis-je postuler ?\",\n",
       "  \"J'ai un entretien avec un recruteur, j'ai un contretemps. Comment puis-je l'informer et/ou modifier mon rendez-vous ?\",\n",
       "  \"Je n'ai pas été retenu. Puis-je postuler à une autre offre ?\",\n",
       "  'Est-il possible de travailler pour Paris 2024 sans maîtriser le français ?',\n",
       "  'Comment postuler chez Paris 2024 ?',\n",
       "  'Puis-je envoyer une candidature directement à une adresse e-mail ou postale ?',\n",
       "  \"J'ai postulé et on me demande de répondre à des questions en vidéo. Est-ce obligatoire ?\",\n",
       "  \"Quelle est la politique de l'entreprise en matière de télétravail ?\",\n",
       "  'Les postes à pourvoir sont ils en CDI ?',\n",
       "  \"Je n'ai pas été retenu suite à ma candidature pour un emploi. Est-il possible d'être volontaire ?\",\n",
       "  \"Quels sont les documents attendus lors d'une candidature ?\",\n",
       "  \"Proposez-vous des jobs d'été ?\",\n",
       "  \"Je ne trouve pas d'offre de poste me correspondant sur le site officiel, comment faire ?\",\n",
       "  \"J'ai postulé à plusieurs offres et je n'ai pas reçu toutes les réponses.\",\n",
       "  'Quel est le processus de recrutement standard ?',\n",
       "  \"À quel délai de réponse à ma candidature dois-je m'attendre ?\",\n",
       "  'Que faire si je ne trouve pas de poste qui corresponde à mon profil ?'],\n",
       " 'body': ['Les agents de sécurité seront embauchés par des prestataires.',\n",
       "  'Si le recruteur vous a invité directement par e-mail, vous pouvez lui répondre.\\r\\n\\r\\nSi vous avez été invité via la plateforme de recrutement (adresse e-mail system@successfactors.eu), connectez-vous [https://career2.successfactors.eu/career?career_company=pariscomit&lang=fr_FR&company=pariscomit&site=&loginFlowRequired=true&_s.crb=ODxujGd%2bZFf6vuGb8%2bpFxiDECdB1yGgdiSlgwFYmhSw%3d] sur votre profil sur le site carrière et modifiez ou annulez votre rendez-vous.\\r\\n\\r\\n\\r\\n\\r\\nPour en savoir plus, rendez-vous sur :\\r\\n\\r\\nhttps://rejoindre.paris2024.org/',\n",
       "  \"Il n'est pas utile de postuler à toutes les offres. Assurez-vous bien d'avoir les compétences requises pour le poste avant de postuler.\\r\\n\\r\\n\\r\\n\\r\\nChaque candidature est visible par tous les recruteurs.\\r\\n\\r\\nVeuillez noter que la majorité des postes sont déjà pourvus\\r\\n\\r\\n\\r\\n\\r\\nPour en savoir plus, rendez-vous sur :\\r\\n\\r\\nhttps://rejoindre.paris2024.org/\",\n",
       "  \"La maîtrise du français est obligatoire pour la plupart de nos postes. Pour quelques-uns, la maîtrise de l’anglais peut être suffisante.\\r\\n\\r\\nC'est la raison pour laquelle notre site carrière est uniquement en français.\\r\\n\\r\\n\\r\\n\\r\\nVeuillez noter que la majorité des postes sont déjà pourvus\\r\\n\\r\\n\\r\\n\\r\\nPour en savoir plus, rendez-vous sur :\\r\\n\\r\\nhttps://rejoindre.paris2024.org/\",\n",
       "  'Pour postuler chez Paris 2024, vous devez vous rendre sur l’espace dédié sur le site internet.\\r\\n\\r\\n\\r\\n\\r\\nVeuillez noter que la majorité des postes sont déjà pourvus.\\r\\n\\r\\n\\r\\n\\r\\nPour en savoir plus, rendez-vous sur :\\r\\n\\r\\nhttps://rejoindre.paris2024.org/?source=site_corpo',\n",
       "  \"Seules les candidatures faites via le site carrière sont accessibles à l'ensemble des recruteurs.\\r\\n\\r\\n\\r\\n\\r\\nVeuillez noter que la majorité des postes sont déjà pourvus\\r\\n\\r\\n\\r\\n\\r\\nPour plus d’information, rendez-vous sur :\\r\\n\\r\\nhttps://rejoindre.paris2024.org/\",\n",
       "  \"La réponse à des questions en vidéo n'est pas obligatoire.\\r\\n\\r\\nNéanmoins, ces questions nous permettent d'affiner la compréhension de votre profil et c'est donc un plus pour votre candidature.\\r\\n\\r\\nSi des raisons techniques vous empêchent de la réaliser, pas de panique, votre candidature sera malgré tout étudiée.\\r\\n\\r\\n\\r\\n\\r\\nVous pouvez aussi contacter le support dont les coordonnées sont indiquées sur votre e-mail d'invitation.\\r\\n\\r\\n\\r\\n\\r\\nPour en savoir plus, rendez-vous sur :\\r\\n\\r\\nhttps://rejoindre.paris2024.org/\",\n",
       "  \"La charte de télétravail Paris 2024 permet deux jours de télétravail (en France) en moyenne par semaine, l'organisation du projet restant prioritaire.\\r\\n\\r\\nÉvidemment, au moment de l'événement, le télétravail ne sera plus possible.\\r\\n\\r\\n\\r\\n\\r\\nPour en savoir plus, rendez-vous sur :\\r\\n\\r\\nhttps://rejoindre.paris2024.org/\",\n",
       "  'Les postes à pourvoir au sein de Paris 2024 sont en CDD.\\r\\n\\r\\n\\r\\n\\r\\nNéanmoins, veuillez noter que la majorité des postes sont déjà pourvus\\r\\n\\r\\n\\r\\n\\r\\nPour en savoir plus, rendez-vous sur :\\r\\n\\r\\nhttps://rejoindre.paris2024.org/',\n",
       "  'La campagne de recrutement des volontaires est désormais close.',\n",
       "  'Pour candidater au sein de Paris 2024, un CV vous sera demandé, mais pas de lettre de motivation.\\r\\n\\r\\nParis 2024 vous invite à suivre les conseils disponibles sur le site relatifs à la rédaction de CV:\\r\\n\\r\\nhttps://rejoindre.paris2024.org/content/Se-preparer/?locale=fr_FR\\r\\n\\r\\n\\r\\n\\r\\nSi vous souhaitez nous partager un portfolio, un espace y est dédié lors de la candidature.\\r\\n\\r\\nEnfin, un bref questionnaire peut vous être adressé au moment du dépôt de votre candidature.\\r\\n\\r\\nPour en savoir plus, rendez-vous sur :\\r\\n\\r\\nhttps://rejoindre.paris2024.org/\\r\\n\\r\\n\\r\\n\\r\\nVeuillez noter que la majorité des postes sont déjà pourvus',\n",
       "  \"Un grand nombre des emplois que Paris 2024 proposera à l'été 2024 peuvent être assimilés à des jobs d'été.\\r\\n\\r\\nCes CDD seront d'une durée de 1 à 3 mois entre juin et mi-septembre 2024.\\r\\n\\r\\nVeuillez noter que la majorité des postes sont déjà pourvus\\r\\n\\r\\n\\r\\n\\r\\n\\r\\nPour en savoir plus, rendez-vous sur :\\r\\n\\r\\nhttps://rejoindre.paris2024.org/\",\n",
       "  \"N'hésitez pas à vous créer une alerte e-mail avec certains mots clés qui caractériseraient le job idéal pour vous.\\r\\n\\r\\n\\r\\n\\r\\nDès publication d'une offre mentionnant le ou les mot(s) clé(s), vous recevrez un e-mail avec le lien vers cette offre.\\r\\n\\r\\nVeuillez noter que la majorité des postes sont déjà pourvus.\\r\\n\\r\\n\\r\\nPour en savoir plus, rendez-vous sur :\\r\\n\\r\\nhttps://rejoindre.paris2024.org/\",\n",
       "  'Nos recruteurs font au mieux pour traiter les très nombreuses candidatures ; sur certains postes, les délais de réponse sont un peu longs, nous vous prions de nous en excuser.',\n",
       "  \"A réception de votre candidature, un recruteur étudiera votre CV et pourra vous demander de réaliser un entretien vidéo différé ou téléphonique complémentaire.\\r\\n\\r\\nA l'issue de cette étape, si votre candidature est retenue, vous serez invité à participer à un entretien individuel ou collectif avec un manager et/ou un recruteur.\\r\\n\\r\\nUn ultime entretien avec un manager peut être requis selon le poste.\\r\\n\\r\\n\\r\\n\\r\\nÀ validation de votre candidature, le recruteur vous fera une proposition formelle.\\r\\n\\r\\n\\r\\n\\r\\n\\r\\n\\r\\nPour en savoir plus, rendez-vous sur :\\r\\n\\r\\nhttps://rejoindre.paris2024.org/\",\n",
       "  'Nous recevons de très nombreuses candidatures et parfois le délai de réponse peut vous sembler un peu long (en moyenne, 2 à 3 semaines).\\r\\n\\r\\n\\r\\n\\r\\nNous nous engageons à répondre à toutes les candidatures par e-mail : en moyenne, cela prend 2 à 3 semaines.\\r\\n\\r\\n\\r\\n\\r\\nPour en savoir plus, rendez-vous sur :\\r\\n\\r\\nhttps://rejoindre.paris2024.org/',\n",
       "  'Si aucun poste sur le site carrière ne vous correspond, Paris 2024 vous invite à créer un profil puis une alerte qui vous permettra de recevoir par e-mail les éventuelles offres qui correspondent à vos critères de recherche.\\r\\nPour créer une alerte, rendez-vous sur :\\r\\n\\r\\nhttps://career2.successfactors.eu/careers?company=pariscomit\\r\\n\\r\\n\\r\\n\\r\\nVeuillez noter que la majorité des postes sont déjà pourvus\\r\\n\\r\\n\\r\\n\\r\\nPour en savoir plus, rendez-vous sur :\\r\\n\\r\\nhttps://rejoindre.paris2024.org/'],\n",
       " 'topics': ['Autres;Recrutement',\n",
       "  'Autres;Recrutement',\n",
       "  'Autres;Recrutement',\n",
       "  'Autres;Recrutement',\n",
       "  'Autres;Recrutement',\n",
       "  'Autres;Recrutement',\n",
       "  'Autres;Recrutement',\n",
       "  'Autres;Recrutement',\n",
       "  'Autres;Recrutement',\n",
       "  'Autres;Recrutement',\n",
       "  'Autres;Recrutement',\n",
       "  'Autres;Recrutement',\n",
       "  'Autres;Recrutement',\n",
       "  'Autres;Recrutement',\n",
       "  'Autres;Recrutement',\n",
       "  'Autres;Recrutement',\n",
       "  'Autres;Recrutement'],\n",
       " 'url': ['https://help.paris2024.org/contents/Je-cherche-un-poste-d-agent-de-securite-Il-n-y-en-a-pas-a-pourvoir-sur-votre-site-Ou-puis-je-postuler-lYZw-BDV',\n",
       "  'https://help.paris2024.org/contents/J-ai-un-entretien-avec-un-recruteur-j-ai-un-contretemps-Comment-puis-je-l-informer-et-ou-modifier-mon-rendez-vous-lYe5M_yu',\n",
       "  'https://help.paris2024.org/contents/Je-n-ai-pas-ete-retenu-Puis-je-postuler-a-une-autre-offre-lYjH-EAB',\n",
       "  'https://help.paris2024.org/contents/Est-il-possible-de-travailler-pour-Paris-2024-sans-maitriser-le-francais-lYhpdiqf',\n",
       "  'https://help.paris2024.org/contents/Comment-postuler-chez-Paris-2024-OnoZ4KWU',\n",
       "  'https://help.paris2024.org/contents/Puis-je-envoyer-une-candidature-directement-a-une-adresse-e-mail-ou-postale-lYWk1dUP',\n",
       "  'https://help.paris2024.org/contents/J-ai-postule-et-on-me-demande-de-repondre-a-des-questions-en-video-Est-ce-obligatoire-lYbhM-vv',\n",
       "  'https://help.paris2024.org/contents/Quelle-est-la-politique-de-l-entreprise-en-matiere-de-teletravail-lYsutsgr',\n",
       "  'https://help.paris2024.org/contents/Les-postes-a-pourvoir-sont-ils-en-CDI-lYmBswMC',\n",
       "  'https://help.paris2024.org/contents/Je-n-ai-pas-ete-retenu-suite-a-ma-candidature-pour-un-emploi-Est-il-possible-d-etre-volontaire-lYkx1iD-',\n",
       "  'https://help.paris2024.org/contents/Quels-sont-les-documents-attendus-lors-d-une-candidature-lYRotjrs',\n",
       "  'https://help.paris2024.org/contents/Proposez-vous-des-jobs-d-ete-lYuGVEFx',\n",
       "  'https://help.paris2024.org/contents/Je-ne-trouve-pas-d-offre-de-poste-me-correspondant-sur-le-site-officiel-comment-faire-lYxCNF5e',\n",
       "  'https://help.paris2024.org/contents/J-ai-postule-a-plusieurs-offres-et-je-n-ai-pas-recu-toutes-les-reponses-oC0eovyJ',\n",
       "  'https://help.paris2024.org/contents/Quel-est-le-processus-de-recrutement-standard-lYoPNDLO',\n",
       "  'https://help.paris2024.org/contents/A-quel-delai-de-reponse-a-ma-candidature-dois-je-m-attendre-lYphNDkF',\n",
       "  'https://help.paris2024.org/contents/Que-faire-si-je-ne-trouve-pas-de-poste-qui-corresponde-a-mon-profil-lYX_tl4N']}"
      ]
     },
     "execution_count": 42,
     "metadata": {},
     "output_type": "execute_result"
    }
   ],
   "source": [
    "final_results"
   ]
  },
  {
   "cell_type": "markdown",
   "id": "0d828ae3-f02e-4560-8a17-840bdbb4fdb9",
   "metadata": {},
   "source": [
    "### add a faiss index on embeddings dataset"
   ]
  },
  {
   "cell_type": "code",
   "execution_count": 9,
   "id": "b63776b5-da83-4f86-a9df-19464016b413",
   "metadata": {},
   "outputs": [
    {
     "data": {
      "application/vnd.jupyter.widget-view+json": {
       "model_id": "30b3025167244d54a88d14040212e13c",
       "version_major": 2,
       "version_minor": 0
      },
      "text/plain": [
       "  0%|          | 0/1 [00:00<?, ?it/s]"
      ]
     },
     "metadata": {},
     "output_type": "display_data"
    },
    {
     "data": {
      "text/plain": [
       "Dataset({\n",
       "    features: ['id', 'lang', 'label', 'body', 'topics', 'url', 'text', '__index_level_0__', 'embeddings'],\n",
       "    num_rows: 543\n",
       "})"
      ]
     },
     "execution_count": 9,
     "metadata": {},
     "output_type": "execute_result"
    }
   ],
   "source": [
    "embeddings_dataset.add_faiss_index(column=\"embeddings\")"
   ]
  },
  {
   "cell_type": "code",
   "execution_count": 255,
   "id": "9cc122ff-e741-40ec-8ed5-3f8d4583c7b3",
   "metadata": {},
   "outputs": [
    {
     "data": {
      "application/vnd.jupyter.widget-view+json": {
       "model_id": "1c201f15c1654390b1b704caed073acc",
       "version_major": 2,
       "version_minor": 0
      },
      "text/plain": [
       "Filter:   0%|          | 0/543 [00:00<?, ? examples/s]"
      ]
     },
     "metadata": {},
     "output_type": "display_data"
    },
    {
     "data": {
      "text/plain": [
       "Dataset({\n",
       "    features: ['id', 'lang', 'label', 'body', 'topics', 'url', 'text', '__index_level_0__', 'embeddings'],\n",
       "    num_rows: 17\n",
       "})"
      ]
     },
     "execution_count": 255,
     "metadata": {},
     "output_type": "execute_result"
    }
   ],
   "source": [
    "embeddings_dataset.filter(lambda x: \"Recrutement\" in x[\"topics\"])"
   ]
  },
  {
   "cell_type": "code",
   "execution_count": 231,
   "id": "bba75070-39ac-4ae3-99fd-d933bcd0313b",
   "metadata": {},
   "outputs": [
    {
     "data": {
      "text/html": [
       "<div>\n",
       "<style scoped>\n",
       "    .dataframe tbody tr th:only-of-type {\n",
       "        vertical-align: middle;\n",
       "    }\n",
       "\n",
       "    .dataframe tbody tr th {\n",
       "        vertical-align: top;\n",
       "    }\n",
       "\n",
       "    .dataframe thead th {\n",
       "        text-align: right;\n",
       "    }\n",
       "</style>\n",
       "<table border=\"1\" class=\"dataframe\">\n",
       "  <thead>\n",
       "    <tr style=\"text-align: right;\">\n",
       "      <th></th>\n",
       "      <th>id</th>\n",
       "      <th>lang</th>\n",
       "      <th>label</th>\n",
       "      <th>body</th>\n",
       "      <th>topics</th>\n",
       "      <th>url</th>\n",
       "      <th>text</th>\n",
       "      <th>__index_level_0__</th>\n",
       "      <th>embeddings</th>\n",
       "    </tr>\n",
       "  </thead>\n",
       "  <tbody>\n",
       "    <tr>\n",
       "      <th>21</th>\n",
       "      <td>lYZw-BDV-fr</td>\n",
       "      <td>fr</td>\n",
       "      <td>Je cherche un poste d'agent de sécurité. Il n'...</td>\n",
       "      <td>Les agents de sécurité seront embauchés par de...</td>\n",
       "      <td>Autres;Recrutement</td>\n",
       "      <td>https://help.paris2024.org/contents/Je-cherche...</td>\n",
       "      <td>Je cherche un poste d'agent de sécurité. Il n'...</td>\n",
       "      <td>21</td>\n",
       "      <td>[0.326814204454422, -0.26716384291648865, -0.1...</td>\n",
       "    </tr>\n",
       "    <tr>\n",
       "      <th>22</th>\n",
       "      <td>lYe5M_yu-fr</td>\n",
       "      <td>fr</td>\n",
       "      <td>J'ai un entretien avec un recruteur, j'ai un c...</td>\n",
       "      <td>Si le recruteur vous a invité directement par ...</td>\n",
       "      <td>Autres;Recrutement</td>\n",
       "      <td>https://help.paris2024.org/contents/J-ai-un-en...</td>\n",
       "      <td>J'ai un entretien avec un recruteur, j'ai un c...</td>\n",
       "      <td>22</td>\n",
       "      <td>[0.16654978692531586, 0.0013078578049317002, -...</td>\n",
       "    </tr>\n",
       "    <tr>\n",
       "      <th>68</th>\n",
       "      <td>lYjH-EAB-fr</td>\n",
       "      <td>fr</td>\n",
       "      <td>Je n'ai pas été retenu. Puis-je postuler à une...</td>\n",
       "      <td>Il n'est pas utile de postuler à toutes les of...</td>\n",
       "      <td>Autres;Recrutement</td>\n",
       "      <td>https://help.paris2024.org/contents/Je-n-ai-pa...</td>\n",
       "      <td>Je n'ai pas été retenu. Puis-je postuler à une...</td>\n",
       "      <td>68</td>\n",
       "      <td>[0.1215088739991188, 0.07961368560791016, -0.1...</td>\n",
       "    </tr>\n",
       "    <tr>\n",
       "      <th>69</th>\n",
       "      <td>lYhpdiqf-fr</td>\n",
       "      <td>fr</td>\n",
       "      <td>Est-il possible de travailler pour Paris 2024 ...</td>\n",
       "      <td>La maîtrise du français est obligatoire pour l...</td>\n",
       "      <td>Autres;Recrutement</td>\n",
       "      <td>https://help.paris2024.org/contents/Est-il-pos...</td>\n",
       "      <td>Est-il possible de travailler pour Paris 2024 ...</td>\n",
       "      <td>69</td>\n",
       "      <td>[0.018843060359358788, 0.04552905634045601, -0...</td>\n",
       "    </tr>\n",
       "    <tr>\n",
       "      <th>71</th>\n",
       "      <td>OnoZ4KWU-fr</td>\n",
       "      <td>fr</td>\n",
       "      <td>Comment postuler chez Paris 2024 ?</td>\n",
       "      <td>Pour postuler chez Paris 2024, vous devez vous...</td>\n",
       "      <td>Autres;Recrutement</td>\n",
       "      <td>https://help.paris2024.org/contents/Comment-po...</td>\n",
       "      <td>Comment postuler chez Paris 2024 ? Pour postul...</td>\n",
       "      <td>71</td>\n",
       "      <td>[0.12723709642887115, 0.03959513083100319, -0....</td>\n",
       "    </tr>\n",
       "    <tr>\n",
       "      <th>72</th>\n",
       "      <td>lYWk1dUP-fr</td>\n",
       "      <td>fr</td>\n",
       "      <td>Puis-je envoyer une candidature directement à ...</td>\n",
       "      <td>Seules les candidatures faites via le site car...</td>\n",
       "      <td>Autres;Recrutement</td>\n",
       "      <td>https://help.paris2024.org/contents/Puis-je-en...</td>\n",
       "      <td>Puis-je envoyer une candidature directement à ...</td>\n",
       "      <td>72</td>\n",
       "      <td>[0.38620978593826294, -0.12024963647127151, -0...</td>\n",
       "    </tr>\n",
       "    <tr>\n",
       "      <th>75</th>\n",
       "      <td>lYbhM-vv-fr</td>\n",
       "      <td>fr</td>\n",
       "      <td>J'ai postulé et on me demande de répondre à de...</td>\n",
       "      <td>La réponse à des questions en vidéo n'est pas ...</td>\n",
       "      <td>Autres;Recrutement</td>\n",
       "      <td>https://help.paris2024.org/contents/J-ai-postu...</td>\n",
       "      <td>J'ai postulé et on me demande de répondre à de...</td>\n",
       "      <td>75</td>\n",
       "      <td>[0.02693028561770916, -0.2153499573469162, -0....</td>\n",
       "    </tr>\n",
       "    <tr>\n",
       "      <th>210</th>\n",
       "      <td>lYsutsgr-fr</td>\n",
       "      <td>fr</td>\n",
       "      <td>Quelle est la politique de l'entreprise en mat...</td>\n",
       "      <td>La charte de télétravail Paris 2024 permet deu...</td>\n",
       "      <td>Autres;Recrutement</td>\n",
       "      <td>https://help.paris2024.org/contents/Quelle-est...</td>\n",
       "      <td>Quelle est la politique de l'entreprise en mat...</td>\n",
       "      <td>285</td>\n",
       "      <td>[0.10767537355422974, -0.3406457006931305, -0....</td>\n",
       "    </tr>\n",
       "    <tr>\n",
       "      <th>283</th>\n",
       "      <td>lYmBswMC-fr</td>\n",
       "      <td>fr</td>\n",
       "      <td>Les postes à pourvoir sont ils en CDI ?</td>\n",
       "      <td>Les postes à pourvoir au sein de Paris 2024 so...</td>\n",
       "      <td>Autres;Recrutement</td>\n",
       "      <td>https://help.paris2024.org/contents/Les-postes...</td>\n",
       "      <td>Les postes à pourvoir sont ils en CDI ? Les po...</td>\n",
       "      <td>429</td>\n",
       "      <td>[-0.08966363221406937, -0.16282516717910767, -...</td>\n",
       "    </tr>\n",
       "    <tr>\n",
       "      <th>285</th>\n",
       "      <td>lYkx1iD--fr</td>\n",
       "      <td>fr</td>\n",
       "      <td>Je n'ai pas été retenu suite à ma candidature ...</td>\n",
       "      <td>La campagne de recrutement des volontaires est...</td>\n",
       "      <td>Autres;Recrutement</td>\n",
       "      <td>https://help.paris2024.org/contents/Je-n-ai-pa...</td>\n",
       "      <td>Je n'ai pas été retenu suite à ma candidature ...</td>\n",
       "      <td>432</td>\n",
       "      <td>[0.07198700308799744, -0.19156815111637115, -0...</td>\n",
       "    </tr>\n",
       "    <tr>\n",
       "      <th>289</th>\n",
       "      <td>lYRotjrs-fr</td>\n",
       "      <td>fr</td>\n",
       "      <td>Quels sont les documents attendus lors d'une c...</td>\n",
       "      <td>Pour candidater au sein de Paris 2024, un CV v...</td>\n",
       "      <td>Autres;Recrutement</td>\n",
       "      <td>https://help.paris2024.org/contents/Quels-sont...</td>\n",
       "      <td>Quels sont les documents attendus lors d'une c...</td>\n",
       "      <td>438</td>\n",
       "      <td>[0.1282423436641693, -0.05045328661799431, -0....</td>\n",
       "    </tr>\n",
       "    <tr>\n",
       "      <th>303</th>\n",
       "      <td>lYuGVEFx-fr</td>\n",
       "      <td>fr</td>\n",
       "      <td>Proposez-vous des jobs d'été ?</td>\n",
       "      <td>Un grand nombre des emplois que Paris 2024 pro...</td>\n",
       "      <td>Autres;Recrutement</td>\n",
       "      <td>https://help.paris2024.org/contents/Proposez-v...</td>\n",
       "      <td>Proposez-vous des jobs d'été ? Un grand nombre...</td>\n",
       "      <td>459</td>\n",
       "      <td>[-0.1023450642824173, 0.2647552490234375, -0.2...</td>\n",
       "    </tr>\n",
       "    <tr>\n",
       "      <th>307</th>\n",
       "      <td>lYxCNF5e-fr</td>\n",
       "      <td>fr</td>\n",
       "      <td>Je ne trouve pas d'offre de poste me correspon...</td>\n",
       "      <td>N'hésitez pas à vous créer une alerte e-mail a...</td>\n",
       "      <td>Autres;Recrutement</td>\n",
       "      <td>https://help.paris2024.org/contents/Je-ne-trou...</td>\n",
       "      <td>Je ne trouve pas d'offre de poste me correspon...</td>\n",
       "      <td>465</td>\n",
       "      <td>[-0.06058812886476517, -0.12811531126499176, -...</td>\n",
       "    </tr>\n",
       "    <tr>\n",
       "      <th>310</th>\n",
       "      <td>oC0eovyJ-fr</td>\n",
       "      <td>fr</td>\n",
       "      <td>J'ai postulé à plusieurs offres et je n'ai pas...</td>\n",
       "      <td>Nos recruteurs font au mieux pour traiter les ...</td>\n",
       "      <td>Autres;Recrutement</td>\n",
       "      <td>https://help.paris2024.org/contents/J-ai-postu...</td>\n",
       "      <td>J'ai postulé à plusieurs offres et je n'ai pas...</td>\n",
       "      <td>469</td>\n",
       "      <td>[-0.1352168470621109, 0.09491834044456482, -0....</td>\n",
       "    </tr>\n",
       "    <tr>\n",
       "      <th>336</th>\n",
       "      <td>lYoPNDLO-fr</td>\n",
       "      <td>fr</td>\n",
       "      <td>Quel est le processus de recrutement standard ?</td>\n",
       "      <td>A réception de votre candidature, un recruteur...</td>\n",
       "      <td>Autres;Recrutement</td>\n",
       "      <td>https://help.paris2024.org/contents/Quel-est-l...</td>\n",
       "      <td>Quel est le processus de recrutement standard ...</td>\n",
       "      <td>508</td>\n",
       "      <td>[0.034688591957092285, -0.2870338261127472, -0...</td>\n",
       "    </tr>\n",
       "    <tr>\n",
       "      <th>338</th>\n",
       "      <td>lYphNDkF-fr</td>\n",
       "      <td>fr</td>\n",
       "      <td>À quel délai de réponse à ma candidature dois-...</td>\n",
       "      <td>Nous recevons de très nombreuses candidatures ...</td>\n",
       "      <td>Autres;Recrutement</td>\n",
       "      <td>https://help.paris2024.org/contents/A-quel-del...</td>\n",
       "      <td>À quel délai de réponse à ma candidature dois-...</td>\n",
       "      <td>511</td>\n",
       "      <td>[-0.09355375915765762, -0.019668469205498695, ...</td>\n",
       "    </tr>\n",
       "    <tr>\n",
       "      <th>448</th>\n",
       "      <td>lYX_tl4N-fr</td>\n",
       "      <td>fr</td>\n",
       "      <td>Que faire si je ne trouve pas de poste qui cor...</td>\n",
       "      <td>Si aucun poste sur le site carrière ne vous co...</td>\n",
       "      <td>Autres;Recrutement</td>\n",
       "      <td>https://help.paris2024.org/contents/Que-faire-...</td>\n",
       "      <td>Que faire si je ne trouve pas de poste qui cor...</td>\n",
       "      <td>647</td>\n",
       "      <td>[0.17478607594966888, 0.0022615473717451096, -...</td>\n",
       "    </tr>\n",
       "  </tbody>\n",
       "</table>\n",
       "</div>"
      ],
      "text/plain": [
       "              id lang                                              label  \\\n",
       "21   lYZw-BDV-fr   fr  Je cherche un poste d'agent de sécurité. Il n'...   \n",
       "22   lYe5M_yu-fr   fr  J'ai un entretien avec un recruteur, j'ai un c...   \n",
       "68   lYjH-EAB-fr   fr  Je n'ai pas été retenu. Puis-je postuler à une...   \n",
       "69   lYhpdiqf-fr   fr  Est-il possible de travailler pour Paris 2024 ...   \n",
       "71   OnoZ4KWU-fr   fr                 Comment postuler chez Paris 2024 ?   \n",
       "72   lYWk1dUP-fr   fr  Puis-je envoyer une candidature directement à ...   \n",
       "75   lYbhM-vv-fr   fr  J'ai postulé et on me demande de répondre à de...   \n",
       "210  lYsutsgr-fr   fr  Quelle est la politique de l'entreprise en mat...   \n",
       "283  lYmBswMC-fr   fr            Les postes à pourvoir sont ils en CDI ?   \n",
       "285  lYkx1iD--fr   fr  Je n'ai pas été retenu suite à ma candidature ...   \n",
       "289  lYRotjrs-fr   fr  Quels sont les documents attendus lors d'une c...   \n",
       "303  lYuGVEFx-fr   fr                     Proposez-vous des jobs d'été ?   \n",
       "307  lYxCNF5e-fr   fr  Je ne trouve pas d'offre de poste me correspon...   \n",
       "310  oC0eovyJ-fr   fr  J'ai postulé à plusieurs offres et je n'ai pas...   \n",
       "336  lYoPNDLO-fr   fr    Quel est le processus de recrutement standard ?   \n",
       "338  lYphNDkF-fr   fr  À quel délai de réponse à ma candidature dois-...   \n",
       "448  lYX_tl4N-fr   fr  Que faire si je ne trouve pas de poste qui cor...   \n",
       "\n",
       "                                                  body              topics  \\\n",
       "21   Les agents de sécurité seront embauchés par de...  Autres;Recrutement   \n",
       "22   Si le recruteur vous a invité directement par ...  Autres;Recrutement   \n",
       "68   Il n'est pas utile de postuler à toutes les of...  Autres;Recrutement   \n",
       "69   La maîtrise du français est obligatoire pour l...  Autres;Recrutement   \n",
       "71   Pour postuler chez Paris 2024, vous devez vous...  Autres;Recrutement   \n",
       "72   Seules les candidatures faites via le site car...  Autres;Recrutement   \n",
       "75   La réponse à des questions en vidéo n'est pas ...  Autres;Recrutement   \n",
       "210  La charte de télétravail Paris 2024 permet deu...  Autres;Recrutement   \n",
       "283  Les postes à pourvoir au sein de Paris 2024 so...  Autres;Recrutement   \n",
       "285  La campagne de recrutement des volontaires est...  Autres;Recrutement   \n",
       "289  Pour candidater au sein de Paris 2024, un CV v...  Autres;Recrutement   \n",
       "303  Un grand nombre des emplois que Paris 2024 pro...  Autres;Recrutement   \n",
       "307  N'hésitez pas à vous créer une alerte e-mail a...  Autres;Recrutement   \n",
       "310  Nos recruteurs font au mieux pour traiter les ...  Autres;Recrutement   \n",
       "336  A réception de votre candidature, un recruteur...  Autres;Recrutement   \n",
       "338  Nous recevons de très nombreuses candidatures ...  Autres;Recrutement   \n",
       "448  Si aucun poste sur le site carrière ne vous co...  Autres;Recrutement   \n",
       "\n",
       "                                                   url  \\\n",
       "21   https://help.paris2024.org/contents/Je-cherche...   \n",
       "22   https://help.paris2024.org/contents/J-ai-un-en...   \n",
       "68   https://help.paris2024.org/contents/Je-n-ai-pa...   \n",
       "69   https://help.paris2024.org/contents/Est-il-pos...   \n",
       "71   https://help.paris2024.org/contents/Comment-po...   \n",
       "72   https://help.paris2024.org/contents/Puis-je-en...   \n",
       "75   https://help.paris2024.org/contents/J-ai-postu...   \n",
       "210  https://help.paris2024.org/contents/Quelle-est...   \n",
       "283  https://help.paris2024.org/contents/Les-postes...   \n",
       "285  https://help.paris2024.org/contents/Je-n-ai-pa...   \n",
       "289  https://help.paris2024.org/contents/Quels-sont...   \n",
       "303  https://help.paris2024.org/contents/Proposez-v...   \n",
       "307  https://help.paris2024.org/contents/Je-ne-trou...   \n",
       "310  https://help.paris2024.org/contents/J-ai-postu...   \n",
       "336  https://help.paris2024.org/contents/Quel-est-l...   \n",
       "338  https://help.paris2024.org/contents/A-quel-del...   \n",
       "448  https://help.paris2024.org/contents/Que-faire-...   \n",
       "\n",
       "                                                  text  __index_level_0__  \\\n",
       "21   Je cherche un poste d'agent de sécurité. Il n'...                 21   \n",
       "22   J'ai un entretien avec un recruteur, j'ai un c...                 22   \n",
       "68   Je n'ai pas été retenu. Puis-je postuler à une...                 68   \n",
       "69   Est-il possible de travailler pour Paris 2024 ...                 69   \n",
       "71   Comment postuler chez Paris 2024 ? Pour postul...                 71   \n",
       "72   Puis-je envoyer une candidature directement à ...                 72   \n",
       "75   J'ai postulé et on me demande de répondre à de...                 75   \n",
       "210  Quelle est la politique de l'entreprise en mat...                285   \n",
       "283  Les postes à pourvoir sont ils en CDI ? Les po...                429   \n",
       "285  Je n'ai pas été retenu suite à ma candidature ...                432   \n",
       "289  Quels sont les documents attendus lors d'une c...                438   \n",
       "303  Proposez-vous des jobs d'été ? Un grand nombre...                459   \n",
       "307  Je ne trouve pas d'offre de poste me correspon...                465   \n",
       "310  J'ai postulé à plusieurs offres et je n'ai pas...                469   \n",
       "336  Quel est le processus de recrutement standard ...                508   \n",
       "338  À quel délai de réponse à ma candidature dois-...                511   \n",
       "448  Que faire si je ne trouve pas de poste qui cor...                647   \n",
       "\n",
       "                                            embeddings  \n",
       "21   [0.326814204454422, -0.26716384291648865, -0.1...  \n",
       "22   [0.16654978692531586, 0.0013078578049317002, -...  \n",
       "68   [0.1215088739991188, 0.07961368560791016, -0.1...  \n",
       "69   [0.018843060359358788, 0.04552905634045601, -0...  \n",
       "71   [0.12723709642887115, 0.03959513083100319, -0....  \n",
       "72   [0.38620978593826294, -0.12024963647127151, -0...  \n",
       "75   [0.02693028561770916, -0.2153499573469162, -0....  \n",
       "210  [0.10767537355422974, -0.3406457006931305, -0....  \n",
       "283  [-0.08966363221406937, -0.16282516717910767, -...  \n",
       "285  [0.07198700308799744, -0.19156815111637115, -0...  \n",
       "289  [0.1282423436641693, -0.05045328661799431, -0....  \n",
       "303  [-0.1023450642824173, 0.2647552490234375, -0.2...  \n",
       "307  [-0.06058812886476517, -0.12811531126499176, -...  \n",
       "310  [-0.1352168470621109, 0.09491834044456482, -0....  \n",
       "336  [0.034688591957092285, -0.2870338261127472, -0...  \n",
       "338  [-0.09355375915765762, -0.019668469205498695, ...  \n",
       "448  [0.17478607594966888, 0.0022615473717451096, -...  "
      ]
     },
     "execution_count": 231,
     "metadata": {},
     "output_type": "execute_result"
    }
   ],
   "source": [
    "\n",
    "        pandaset[pandaset['topics'].str.contains(\"Recrutement\")]"
   ]
  },
  {
   "cell_type": "code",
   "execution_count": null,
   "id": "b6c61e07-423f-40e9-abef-1fc3c074be2c",
   "metadata": {},
   "outputs": [],
   "source": []
  },
  {
   "cell_type": "markdown",
   "id": "7575a013-3262-4ea7-8120-47ff4c1fb299",
   "metadata": {},
   "source": [
    "### Question embedding"
   ]
  },
  {
   "cell_type": "code",
   "execution_count": 39,
   "id": "6bae955c-4183-408c-ab09-ac23d748b069",
   "metadata": {},
   "outputs": [
    {
     "data": {
      "text/plain": [
       "(1, 768)"
      ]
     },
     "execution_count": 39,
     "metadata": {},
     "output_type": "execute_result"
    }
   ],
   "source": [
    "question = \"flamme\"\n",
    "question_embedding = get_embeddings(question).detach().numpy()\n",
    "question_embedding.shape"
   ]
  },
  {
   "cell_type": "markdown",
   "id": "49bb11cc-2e97-4cda-91e1-ad16a3183c54",
   "metadata": {},
   "source": [
    "### Get nearest examples between questions and text "
   ]
  },
  {
   "cell_type": "code",
   "execution_count": 245,
   "id": "6b586b38-f4aa-435e-9184-53525bbc5a99",
   "metadata": {},
   "outputs": [],
   "source": [
    "scores, samples = embeddings_dataset.get_nearest_examples(\n",
    "    \"embeddings\", question_embedding, k=5\n",
    ")"
   ]
  },
  {
   "cell_type": "code",
   "execution_count": null,
   "id": "911f3ce0-3f6f-412f-aa86-becd9ab16f41",
   "metadata": {},
   "outputs": [],
   "source": [
    "### Display results, look ok"
   ]
  },
  {
   "cell_type": "code",
   "execution_count": 246,
   "id": "1f0156ca-f61d-421d-a315-31c3a092ac3f",
   "metadata": {},
   "outputs": [
    {
     "data": {
      "text/plain": [
       "4    Faut-il être de nationalité française pour por...\n",
       "3    Faut-il une condition physique particulière po...\n",
       "2    D’où vient la Flamme Olympique ? Que représent...\n",
       "1    Que se passe-t-il si la Flamme Olympique s’éte...\n",
       "0                      Que devient la Flamme la nuit ?\n",
       "Name: label, dtype: object"
      ]
     },
     "execution_count": 246,
     "metadata": {},
     "output_type": "execute_result"
    }
   ],
   "source": [
    "samples_df = pd.DataFrame.from_dict(samples)\n",
    "samples_df[\"scores\"] = scores\n",
    "samples_df.sort_values(\"scores\", ascending=False, inplace=True)\n",
    "samples_df['label']"
   ]
  },
  {
   "cell_type": "markdown",
   "id": "f9186c17-c224-4d90-8b07-23ca8d85500c",
   "metadata": {},
   "source": [
    "## 2. Recherche catégorie ##"
   ]
  },
  {
   "cell_type": "code",
   "execution_count": 196,
   "id": "745d4c07-f91c-4b46-9ba5-ec6bf909f14a",
   "metadata": {},
   "outputs": [],
   "source": [
    "categories = {}\n",
    "def split_topics(data):\n",
    "    for v in data:\n",
    "        split = v.split(';')\n",
    "        if len(split)>1:\n",
    "            if split[0] not in categories:\n",
    "                categories[split[0]]={}\n",
    "            categories[split[0]][split[1]]={}\n",
    "        if len(split)>2:\n",
    "            if split[2] not in categories[split[0]][split[1]]:\n",
    "                categories[split[0]][split[1]][split[2]]={}\n",
    "    return categories\n",
    "    \n",
    "    "
   ]
  },
  {
   "cell_type": "code",
   "execution_count": 191,
   "id": "e67dc03a-734c-46ae-a245-b46c7670f345",
   "metadata": {},
   "outputs": [
    {
     "data": {
      "text/plain": [
       "90     Volontaires;Je suis volontaire\n",
       "91     Volontaires;Je suis volontaire\n",
       "474    Volontaires;Je suis volontaire\n",
       "671    Volontaires;Je suis volontaire\n",
       "735    Volontaires;Je suis volontaire\n",
       "Name: topics, dtype: object"
      ]
     },
     "execution_count": 191,
     "metadata": {},
     "output_type": "execute_result"
    }
   ],
   "source": [
    "data[data['topics'].str.contains('Je suis volontaire')]['topics']"
   ]
  },
  {
   "cell_type": "code",
   "execution_count": 197,
   "id": "a783ce41-27ff-46e6-8b0f-dbdc7a290652",
   "metadata": {},
   "outputs": [
    {
     "data": {
      "text/plain": [
       "{'Autres': {'Terre de Jeux': {'Autre (animation, communication, financement, CPJ, marque)': {}},\n",
       "  'Comptes et données personnelles': {},\n",
       "  'Éducation': {'Ma classe aux Jeux': {}},\n",
       "  'Recrutement': {},\n",
       "  'CIO et IPC': {},\n",
       "  'Engagements environnementaux': {'Questions générales': {}},\n",
       "  'Partenariats': {},\n",
       "  'Impact2024-Fonds de dotation': {},\n",
       "  'La marque Paris 2024': {},\n",
       "  'Contact Barreau de Paris pendant les Jeux': {},\n",
       "  \"Dispositifs d'alerte Paris 2024\": {}},\n",
       " 'Sports et Athlètes': {'Athlètes': {'Le Village des Athlètes': {}},\n",
       "  'Sports': {'Calendrier des épreuves et diffusion des Jeux': {}}},\n",
       " 'Relais de la Flamme ': {'Le parcours du Relais de la Flamme': {'Le parcours de la Flamme Olympique': {}},\n",
       "  'Les porteurs de la Flamme': {},\n",
       "  'Les Flammes et la torche': {}},\n",
       " 'Cérémonies et célébrations': {'Célébrations': {'Olympiade Culturelle': {}},\n",
       "  'Cérémonies': {'Cérémonies Paralympiques': {}}},\n",
       " 'Club Paris 2024 / Marathon Pour Tous': {'Marathon Pour Tous': {'Questions générales': {}},\n",
       "  'Marathon Pour Tous Connecté': {},\n",
       "  'Club Paris 2024': {'Les Carrés des Supporters': {}}},\n",
       " 'Boutiques': {'Boutiques en ligne': {},\n",
       "  'Boutiques physiques': {},\n",
       "  'Questions générales': {}},\n",
       " 'Volontaires': {'Questions Générales': {}, 'Je suis volontaire': {}},\n",
       " 'Informations pratiques': {'Les sites de compétition': {},\n",
       "  'Préparer sa venue': {'Accessibilité sur site': {}},\n",
       "  'Impact des Jeux': {'Ile-de-France': {}},\n",
       "  'Contact': {}},\n",
       " 'Billetterie et Hospitalité': {'Billetterie': {}, 'Hospitalité': {}},\n",
       " 'Transport': {'Questions générales': {},\n",
       "  'Rejoindre les sites de compétition': {},\n",
       "  'Accessibilité': {}}}"
      ]
     },
     "execution_count": 197,
     "metadata": {},
     "output_type": "execute_result"
    }
   ],
   "source": [
    "split_topics(data['topics'])"
   ]
  }
 ],
 "metadata": {
  "kernelspec": {
   "display_name": "Python 3 (ipykernel)",
   "language": "python",
   "name": "python3"
  },
  "language_info": {
   "codemirror_mode": {
    "name": "ipython",
    "version": 3
   },
   "file_extension": ".py",
   "mimetype": "text/x-python",
   "name": "python",
   "nbconvert_exporter": "python",
   "pygments_lexer": "ipython3",
   "version": "3.10.6"
  }
 },
 "nbformat": 4,
 "nbformat_minor": 5
}
