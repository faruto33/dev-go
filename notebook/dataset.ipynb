{
 "cells": [
  {
   "cell_type": "markdown",
   "id": "d4e2c727-44e1-4375-86e5-f1974a4e36fa",
   "metadata": {},
   "source": [
    "### Import packages"
   ]
  },
  {
   "cell_type": "code",
   "execution_count": 1,
   "id": "39393dca-e440-49c9-892b-725f8f12679b",
   "metadata": {},
   "outputs": [],
   "source": [
    "import pandas as pd\n",
    "from datasets import Dataset"
   ]
  },
  {
   "cell_type": "markdown",
   "id": "5acb5315-2177-4c39-834c-66f27db6c8e8",
   "metadata": {},
   "source": [
    "### Import dataset from CSV file"
   ]
  },
  {
   "cell_type": "code",
   "execution_count": 2,
   "id": "b74ae80d-15ed-4c5e-87b7-e08bc9ecea2d",
   "metadata": {},
   "outputs": [],
   "source": [
    "data = pd.read_csv('../data/paris-2024-faq.csv',delimiter=\";\")"
   ]
  },
  {
   "cell_type": "markdown",
   "id": "2b0f67d9-b036-4fc1-9b48-fa1749f9c2a4",
   "metadata": {},
   "source": [
    "### Extract french language from FAQ"
   ]
  },
  {
   "cell_type": "code",
   "execution_count": 3,
   "id": "ff88fa67-8883-4822-83ca-95dea2bd2823",
   "metadata": {},
   "outputs": [],
   "source": [
    "# extract french FAQ\n",
    "data = data[data['lang']=='fr']"
   ]
  },
  {
   "cell_type": "markdown",
   "id": "c0de0f44-97bd-4936-abf0-1220b6a759c5",
   "metadata": {},
   "source": [
    "### Combine a new text field for semantic search"
   ]
  },
  {
   "cell_type": "code",
   "execution_count": 4,
   "id": "6da168f7-fb4b-4117-9b4b-f5f7d4ade026",
   "metadata": {},
   "outputs": [],
   "source": [
    "data['text'] = data['label'] + ' ' + data['body'] + ' ' + data['topics']"
   ]
  },
  {
   "cell_type": "markdown",
   "id": "ac4b8cb4-df6d-4a71-8457-4a9b09f1a71c",
   "metadata": {},
   "source": [
    "### Import sentence transformers from hugging face"
   ]
  },
  {
   "cell_type": "code",
   "execution_count": 19,
   "id": "c5e558ab-b4fd-4674-a13d-2d064b522248",
   "metadata": {},
   "outputs": [
    {
     "name": "stderr",
     "output_type": "stream",
     "text": [
      "/home/farid/.pyenv/versions/3.10.6/envs/dev-go/lib/python3.10/site-packages/transformers/tokenization_utils_base.py:1601: FutureWarning: `clean_up_tokenization_spaces` was not set. It will be set to `True` by default. This behavior will be depracted in transformers v4.45, and will be then set to `False` by default. For more details check this issue: https://github.com/huggingface/transformers/issues/31884\n",
      "  warnings.warn(\n"
     ]
    }
   ],
   "source": [
    "from transformers import AutoTokenizer, AutoModel\n",
    "\n",
    "model_ckpt = \"sentence-transformers/multi-qa-mpnet-base-dot-v1\"\n",
    "tokenizer = AutoTokenizer.from_pretrained(model_ckpt)\n",
    "model = AutoModel.from_pretrained(model_ckpt)"
   ]
  },
  {
   "cell_type": "markdown",
   "id": "758e50ea-d769-4308-b038-b08c998042d8",
   "metadata": {},
   "source": [
    "### Embeddings functions"
   ]
  },
  {
   "cell_type": "code",
   "execution_count": 6,
   "id": "0b8984cb-d9db-41f8-aca4-ead0c77fb96d",
   "metadata": {},
   "outputs": [],
   "source": [
    "def cls_pooling(model_output):\n",
    "    return model_output.last_hidden_state[:, 0]\n",
    "\n",
    "def get_embeddings(text_list):\n",
    "    encoded_input = tokenizer(text_list, padding=True, truncation=True, return_tensors=\"pt\")\n",
    "    encoded_input = {k: v for k, v in encoded_input.items()}\n",
    "    model_output = model(**encoded_input)\n",
    "    return cls_pooling(model_output)"
   ]
  },
  {
   "cell_type": "markdown",
   "id": "f34ff775-c57d-40fc-ac9c-4f18db0be666",
   "metadata": {},
   "source": [
    "### Get embeddings on the text column"
   ]
  },
  {
   "cell_type": "code",
   "execution_count": 10,
   "id": "f90a9a81-3e01-45df-a3c9-ebf1c613a816",
   "metadata": {},
   "outputs": [
    {
     "data": {
      "application/vnd.jupyter.widget-view+json": {
       "model_id": "3ac7ad04cc5e49378bddb2d064e479c8",
       "version_major": 2,
       "version_minor": 0
      },
      "text/plain": [
       "Map:   0%|          | 0/543 [00:00<?, ? examples/s]"
      ]
     },
     "metadata": {},
     "output_type": "display_data"
    }
   ],
   "source": [
    "text_dataset = Dataset.from_pandas(data)\n",
    "\n",
    "embeddings_dataset = text_dataset.map(\n",
    "    lambda x: {\"embeddings\": get_embeddings(x[\"text\"]).detach().numpy()[0]}\n",
    ")"
   ]
  },
  {
   "cell_type": "markdown",
   "id": "0d828ae3-f02e-4560-8a17-840bdbb4fdb9",
   "metadata": {},
   "source": [
    "### add a faiss index on embeddings dataset"
   ]
  },
  {
   "cell_type": "code",
   "execution_count": 34,
   "id": "b63776b5-da83-4f86-a9df-19464016b413",
   "metadata": {},
   "outputs": [
    {
     "data": {
      "application/vnd.jupyter.widget-view+json": {
       "model_id": "f119ce2938a843808008d8ad308f8f10",
       "version_major": 2,
       "version_minor": 0
      },
      "text/plain": [
       "  0%|          | 0/1 [00:00<?, ?it/s]"
      ]
     },
     "metadata": {},
     "output_type": "display_data"
    },
    {
     "data": {
      "text/plain": [
       "Dataset({\n",
       "    features: ['id', 'lang', 'label', 'body', 'topics', 'url', 'text', '__index_level_0__', 'embeddings'],\n",
       "    num_rows: 543\n",
       "})"
      ]
     },
     "execution_count": 34,
     "metadata": {},
     "output_type": "execute_result"
    }
   ],
   "source": [
    "embeddings_dataset.add_faiss_index(column=\"embeddings\")"
   ]
  },
  {
   "cell_type": "markdown",
   "id": "7575a013-3262-4ea7-8120-47ff4c1fb299",
   "metadata": {},
   "source": [
    "### Question embedding"
   ]
  },
  {
   "cell_type": "code",
   "execution_count": 28,
   "id": "6bae955c-4183-408c-ab09-ac23d748b069",
   "metadata": {},
   "outputs": [
    {
     "data": {
      "text/plain": [
       "(1, 768)"
      ]
     },
     "execution_count": 28,
     "metadata": {},
     "output_type": "execute_result"
    }
   ],
   "source": [
    "question = \"flamme\"\n",
    "question_embedding = get_embeddings([question]).detach().numpy()\n",
    "question_embedding.shape"
   ]
  },
  {
   "cell_type": "markdown",
   "id": "49bb11cc-2e97-4cda-91e1-ad16a3183c54",
   "metadata": {},
   "source": [
    "### Get nearest examples between questions and text "
   ]
  },
  {
   "cell_type": "code",
   "execution_count": 29,
   "id": "6b586b38-f4aa-435e-9184-53525bbc5a99",
   "metadata": {},
   "outputs": [],
   "source": [
    "scores, samples = embeddings_dataset.get_nearest_examples(\n",
    "    \"embeddings\", question_embedding, k=5\n",
    ")"
   ]
  },
  {
   "cell_type": "code",
   "execution_count": null,
   "id": "911f3ce0-3f6f-412f-aa86-becd9ab16f41",
   "metadata": {},
   "outputs": [],
   "source": [
    "### Display results, look ok"
   ]
  },
  {
   "cell_type": "code",
   "execution_count": 36,
   "id": "1f0156ca-f61d-421d-a315-31c3a092ac3f",
   "metadata": {},
   "outputs": [
    {
     "data": {
      "text/html": [
       "<div>\n",
       "<style scoped>\n",
       "    .dataframe tbody tr th:only-of-type {\n",
       "        vertical-align: middle;\n",
       "    }\n",
       "\n",
       "    .dataframe tbody tr th {\n",
       "        vertical-align: top;\n",
       "    }\n",
       "\n",
       "    .dataframe thead th {\n",
       "        text-align: right;\n",
       "    }\n",
       "</style>\n",
       "<table border=\"1\" class=\"dataframe\">\n",
       "  <thead>\n",
       "    <tr style=\"text-align: right;\">\n",
       "      <th></th>\n",
       "      <th>id</th>\n",
       "      <th>lang</th>\n",
       "      <th>label</th>\n",
       "      <th>body</th>\n",
       "      <th>topics</th>\n",
       "      <th>url</th>\n",
       "      <th>text</th>\n",
       "      <th>__index_level_0__</th>\n",
       "      <th>embeddings</th>\n",
       "      <th>scores</th>\n",
       "    </tr>\n",
       "  </thead>\n",
       "  <tbody>\n",
       "    <tr>\n",
       "      <th>4</th>\n",
       "      <td>OngTYmjF-fr</td>\n",
       "      <td>fr</td>\n",
       "      <td>Faut-il être de nationalité française pour por...</td>\n",
       "      <td>Le Relais de la Flamme, à l’image des Jeux est...</td>\n",
       "      <td>Relais de la Flamme ;Les porteurs de la Flamme</td>\n",
       "      <td>https://help.paris2024.org/contents/Faut-il-et...</td>\n",
       "      <td>Faut-il être de nationalité française pour por...</td>\n",
       "      <td>168</td>\n",
       "      <td>[-0.07542101293802261, -0.2647593319416046, -0...</td>\n",
       "      <td>37.694481</td>\n",
       "    </tr>\n",
       "    <tr>\n",
       "      <th>3</th>\n",
       "      <td>OngUUij5-fr</td>\n",
       "      <td>fr</td>\n",
       "      <td>Faut-il une condition physique particulière po...</td>\n",
       "      <td>Le Relais de la Flamme n’est pas une compétiti...</td>\n",
       "      <td>Relais de la Flamme ;Les porteurs de la Flamme</td>\n",
       "      <td>https://help.paris2024.org/contents/Faut-il-un...</td>\n",
       "      <td>Faut-il une condition physique particulière po...</td>\n",
       "      <td>166</td>\n",
       "      <td>[-0.17378737032413483, -0.5798210501670837, -0...</td>\n",
       "      <td>37.668285</td>\n",
       "    </tr>\n",
       "    <tr>\n",
       "      <th>2</th>\n",
       "      <td>OngiDqKi-fr</td>\n",
       "      <td>fr</td>\n",
       "      <td>D’où vient la Flamme Olympique ? Que représent...</td>\n",
       "      <td>Dans l’Antiquité, les Grecs considéraient le f...</td>\n",
       "      <td>Relais de la Flamme ;Les Flammes et la torche</td>\n",
       "      <td>https://help.paris2024.org/contents/D-ou-vient...</td>\n",
       "      <td>D’où vient la Flamme Olympique ? Que représent...</td>\n",
       "      <td>169</td>\n",
       "      <td>[-0.058181218802928925, -0.14278440177440643, ...</td>\n",
       "      <td>36.726715</td>\n",
       "    </tr>\n",
       "    <tr>\n",
       "      <th>1</th>\n",
       "      <td>OngjaAN0-fr</td>\n",
       "      <td>fr</td>\n",
       "      <td>Que se passe-t-il si la Flamme Olympique s’éte...</td>\n",
       "      <td>La Flamme Olympique est un élément sacré.\\n\\nD...</td>\n",
       "      <td>Relais de la Flamme ;Les Flammes et la torche</td>\n",
       "      <td>https://help.paris2024.org/contents/Que-se-pas...</td>\n",
       "      <td>Que se passe-t-il si la Flamme Olympique s’éte...</td>\n",
       "      <td>170</td>\n",
       "      <td>[-0.06371043622493744, -0.4322930872440338, -0...</td>\n",
       "      <td>36.184418</td>\n",
       "    </tr>\n",
       "    <tr>\n",
       "      <th>0</th>\n",
       "      <td>OngdYmoQ-fr</td>\n",
       "      <td>fr</td>\n",
       "      <td>Que devient la Flamme la nuit ?</td>\n",
       "      <td>De nuit, comme de jour, la Flamme est gardienn...</td>\n",
       "      <td>Relais de la Flamme ;Les Flammes et la torche</td>\n",
       "      <td>https://help.paris2024.org/contents/Que-devien...</td>\n",
       "      <td>Que devient la Flamme la nuit ? De nuit, comme...</td>\n",
       "      <td>781</td>\n",
       "      <td>[0.17467954754829407, -0.8337361812591553, -0....</td>\n",
       "      <td>35.397820</td>\n",
       "    </tr>\n",
       "  </tbody>\n",
       "</table>\n",
       "</div>"
      ],
      "text/plain": [
       "            id lang                                              label  \\\n",
       "4  OngTYmjF-fr   fr  Faut-il être de nationalité française pour por...   \n",
       "3  OngUUij5-fr   fr  Faut-il une condition physique particulière po...   \n",
       "2  OngiDqKi-fr   fr  D’où vient la Flamme Olympique ? Que représent...   \n",
       "1  OngjaAN0-fr   fr  Que se passe-t-il si la Flamme Olympique s’éte...   \n",
       "0  OngdYmoQ-fr   fr                    Que devient la Flamme la nuit ?   \n",
       "\n",
       "                                                body  \\\n",
       "4  Le Relais de la Flamme, à l’image des Jeux est...   \n",
       "3  Le Relais de la Flamme n’est pas une compétiti...   \n",
       "2  Dans l’Antiquité, les Grecs considéraient le f...   \n",
       "1  La Flamme Olympique est un élément sacré.\\n\\nD...   \n",
       "0  De nuit, comme de jour, la Flamme est gardienn...   \n",
       "\n",
       "                                           topics  \\\n",
       "4  Relais de la Flamme ;Les porteurs de la Flamme   \n",
       "3  Relais de la Flamme ;Les porteurs de la Flamme   \n",
       "2   Relais de la Flamme ;Les Flammes et la torche   \n",
       "1   Relais de la Flamme ;Les Flammes et la torche   \n",
       "0   Relais de la Flamme ;Les Flammes et la torche   \n",
       "\n",
       "                                                 url  \\\n",
       "4  https://help.paris2024.org/contents/Faut-il-et...   \n",
       "3  https://help.paris2024.org/contents/Faut-il-un...   \n",
       "2  https://help.paris2024.org/contents/D-ou-vient...   \n",
       "1  https://help.paris2024.org/contents/Que-se-pas...   \n",
       "0  https://help.paris2024.org/contents/Que-devien...   \n",
       "\n",
       "                                                text  __index_level_0__  \\\n",
       "4  Faut-il être de nationalité française pour por...                168   \n",
       "3  Faut-il une condition physique particulière po...                166   \n",
       "2  D’où vient la Flamme Olympique ? Que représent...                169   \n",
       "1  Que se passe-t-il si la Flamme Olympique s’éte...                170   \n",
       "0  Que devient la Flamme la nuit ? De nuit, comme...                781   \n",
       "\n",
       "                                          embeddings     scores  \n",
       "4  [-0.07542101293802261, -0.2647593319416046, -0...  37.694481  \n",
       "3  [-0.17378737032413483, -0.5798210501670837, -0...  37.668285  \n",
       "2  [-0.058181218802928925, -0.14278440177440643, ...  36.726715  \n",
       "1  [-0.06371043622493744, -0.4322930872440338, -0...  36.184418  \n",
       "0  [0.17467954754829407, -0.8337361812591553, -0....  35.397820  "
      ]
     },
     "execution_count": 36,
     "metadata": {},
     "output_type": "execute_result"
    }
   ],
   "source": [
    "samples_df = pd.DataFrame.from_dict(samples)\n",
    "samples_df[\"scores\"] = scores\n",
    "samples_df.sort_values(\"scores\", ascending=False, inplace=True)\n",
    "samples_df"
   ]
  },
  {
   "cell_type": "code",
   "execution_count": 31,
   "id": "f687f6ba-98da-479c-9120-84a793c67f47",
   "metadata": {},
   "outputs": [
    {
     "data": {
      "text/html": [
       "<div>\n",
       "<style scoped>\n",
       "    .dataframe tbody tr th:only-of-type {\n",
       "        vertical-align: middle;\n",
       "    }\n",
       "\n",
       "    .dataframe tbody tr th {\n",
       "        vertical-align: top;\n",
       "    }\n",
       "\n",
       "    .dataframe thead th {\n",
       "        text-align: right;\n",
       "    }\n",
       "</style>\n",
       "<table border=\"1\" class=\"dataframe\">\n",
       "  <thead>\n",
       "    <tr style=\"text-align: right;\">\n",
       "      <th></th>\n",
       "      <th>id</th>\n",
       "      <th>lang</th>\n",
       "      <th>label</th>\n",
       "      <th>body</th>\n",
       "      <th>topics</th>\n",
       "      <th>url</th>\n",
       "      <th>text</th>\n",
       "      <th>__index_level_0__</th>\n",
       "      <th>embeddings</th>\n",
       "      <th>scores</th>\n",
       "    </tr>\n",
       "  </thead>\n",
       "  <tbody>\n",
       "    <tr>\n",
       "      <th>4</th>\n",
       "      <td>OngTYmjF-fr</td>\n",
       "      <td>fr</td>\n",
       "      <td>Faut-il être de nationalité française pour por...</td>\n",
       "      <td>Le Relais de la Flamme, à l’image des Jeux est...</td>\n",
       "      <td>Relais de la Flamme ;Les porteurs de la Flamme</td>\n",
       "      <td>https://help.paris2024.org/contents/Faut-il-et...</td>\n",
       "      <td>Faut-il être de nationalité française pour por...</td>\n",
       "      <td>168</td>\n",
       "      <td>[-0.07542101293802261, -0.2647593319416046, -0...</td>\n",
       "      <td>37.694481</td>\n",
       "    </tr>\n",
       "    <tr>\n",
       "      <th>3</th>\n",
       "      <td>OngUUij5-fr</td>\n",
       "      <td>fr</td>\n",
       "      <td>Faut-il une condition physique particulière po...</td>\n",
       "      <td>Le Relais de la Flamme n’est pas une compétiti...</td>\n",
       "      <td>Relais de la Flamme ;Les porteurs de la Flamme</td>\n",
       "      <td>https://help.paris2024.org/contents/Faut-il-un...</td>\n",
       "      <td>Faut-il une condition physique particulière po...</td>\n",
       "      <td>166</td>\n",
       "      <td>[-0.17378737032413483, -0.5798210501670837, -0...</td>\n",
       "      <td>37.668285</td>\n",
       "    </tr>\n",
       "    <tr>\n",
       "      <th>2</th>\n",
       "      <td>OngiDqKi-fr</td>\n",
       "      <td>fr</td>\n",
       "      <td>D’où vient la Flamme Olympique ? Que représent...</td>\n",
       "      <td>Dans l’Antiquité, les Grecs considéraient le f...</td>\n",
       "      <td>Relais de la Flamme ;Les Flammes et la torche</td>\n",
       "      <td>https://help.paris2024.org/contents/D-ou-vient...</td>\n",
       "      <td>D’où vient la Flamme Olympique ? Que représent...</td>\n",
       "      <td>169</td>\n",
       "      <td>[-0.058181218802928925, -0.14278440177440643, ...</td>\n",
       "      <td>36.726715</td>\n",
       "    </tr>\n",
       "    <tr>\n",
       "      <th>1</th>\n",
       "      <td>OngjaAN0-fr</td>\n",
       "      <td>fr</td>\n",
       "      <td>Que se passe-t-il si la Flamme Olympique s’éte...</td>\n",
       "      <td>La Flamme Olympique est un élément sacré.\\n\\nD...</td>\n",
       "      <td>Relais de la Flamme ;Les Flammes et la torche</td>\n",
       "      <td>https://help.paris2024.org/contents/Que-se-pas...</td>\n",
       "      <td>Que se passe-t-il si la Flamme Olympique s’éte...</td>\n",
       "      <td>170</td>\n",
       "      <td>[-0.06371043622493744, -0.4322930872440338, -0...</td>\n",
       "      <td>36.184418</td>\n",
       "    </tr>\n",
       "    <tr>\n",
       "      <th>0</th>\n",
       "      <td>OngdYmoQ-fr</td>\n",
       "      <td>fr</td>\n",
       "      <td>Que devient la Flamme la nuit ?</td>\n",
       "      <td>De nuit, comme de jour, la Flamme est gardienn...</td>\n",
       "      <td>Relais de la Flamme ;Les Flammes et la torche</td>\n",
       "      <td>https://help.paris2024.org/contents/Que-devien...</td>\n",
       "      <td>Que devient la Flamme la nuit ? De nuit, comme...</td>\n",
       "      <td>781</td>\n",
       "      <td>[0.17467954754829407, -0.8337361812591553, -0....</td>\n",
       "      <td>35.397820</td>\n",
       "    </tr>\n",
       "  </tbody>\n",
       "</table>\n",
       "</div>"
      ],
      "text/plain": [
       "            id lang                                              label  \\\n",
       "4  OngTYmjF-fr   fr  Faut-il être de nationalité française pour por...   \n",
       "3  OngUUij5-fr   fr  Faut-il une condition physique particulière po...   \n",
       "2  OngiDqKi-fr   fr  D’où vient la Flamme Olympique ? Que représent...   \n",
       "1  OngjaAN0-fr   fr  Que se passe-t-il si la Flamme Olympique s’éte...   \n",
       "0  OngdYmoQ-fr   fr                    Que devient la Flamme la nuit ?   \n",
       "\n",
       "                                                body  \\\n",
       "4  Le Relais de la Flamme, à l’image des Jeux est...   \n",
       "3  Le Relais de la Flamme n’est pas une compétiti...   \n",
       "2  Dans l’Antiquité, les Grecs considéraient le f...   \n",
       "1  La Flamme Olympique est un élément sacré.\\n\\nD...   \n",
       "0  De nuit, comme de jour, la Flamme est gardienn...   \n",
       "\n",
       "                                           topics  \\\n",
       "4  Relais de la Flamme ;Les porteurs de la Flamme   \n",
       "3  Relais de la Flamme ;Les porteurs de la Flamme   \n",
       "2   Relais de la Flamme ;Les Flammes et la torche   \n",
       "1   Relais de la Flamme ;Les Flammes et la torche   \n",
       "0   Relais de la Flamme ;Les Flammes et la torche   \n",
       "\n",
       "                                                 url  \\\n",
       "4  https://help.paris2024.org/contents/Faut-il-et...   \n",
       "3  https://help.paris2024.org/contents/Faut-il-un...   \n",
       "2  https://help.paris2024.org/contents/D-ou-vient...   \n",
       "1  https://help.paris2024.org/contents/Que-se-pas...   \n",
       "0  https://help.paris2024.org/contents/Que-devien...   \n",
       "\n",
       "                                                text  __index_level_0__  \\\n",
       "4  Faut-il être de nationalité française pour por...                168   \n",
       "3  Faut-il une condition physique particulière po...                166   \n",
       "2  D’où vient la Flamme Olympique ? Que représent...                169   \n",
       "1  Que se passe-t-il si la Flamme Olympique s’éte...                170   \n",
       "0  Que devient la Flamme la nuit ? De nuit, comme...                781   \n",
       "\n",
       "                                          embeddings     scores  \n",
       "4  [-0.07542101293802261, -0.2647593319416046, -0...  37.694481  \n",
       "3  [-0.17378737032413483, -0.5798210501670837, -0...  37.668285  \n",
       "2  [-0.058181218802928925, -0.14278440177440643, ...  36.726715  \n",
       "1  [-0.06371043622493744, -0.4322930872440338, -0...  36.184418  \n",
       "0  [0.17467954754829407, -0.8337361812591553, -0....  35.397820  "
      ]
     },
     "execution_count": 31,
     "metadata": {},
     "output_type": "execute_result"
    }
   ],
   "source": []
  }
 ],
 "metadata": {
  "kernelspec": {
   "display_name": "Python 3 (ipykernel)",
   "language": "python",
   "name": "python3"
  },
  "language_info": {
   "codemirror_mode": {
    "name": "ipython",
    "version": 3
   },
   "file_extension": ".py",
   "mimetype": "text/x-python",
   "name": "python",
   "nbconvert_exporter": "python",
   "pygments_lexer": "ipython3",
   "version": "3.10.6"
  }
 },
 "nbformat": 4,
 "nbformat_minor": 5
}
